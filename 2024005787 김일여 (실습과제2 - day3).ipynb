{
 "cells": [
  {
   "cell_type": "code",
   "execution_count": null,
   "id": "1f9aab5e",
   "metadata": {},
   "outputs": [],
   "source": [
    "string_ = \"Monday, Tuesday, Wednesday, Thursday, Friday, Saturday, Sunday\"\n",
    "daylist = string.split(\", \")"
   ]
  },
  {
   "cell_type": "markdown",
   "id": "f775d244",
   "metadata": {},
   "source": [
    "string_이라는 문자열을 ','를 기준으로 구분하여 리스트로 생성함"
   ]
  },
  {
   "cell_type": "code",
   "execution_count": null,
   "id": "02e08724",
   "metadata": {},
   "outputs": [],
   "source": [
    "days = \"|\".join(i[:3].upper() for i in daylist)"
   ]
  },
  {
   "cell_type": "markdown",
   "id": "2649d5cb",
   "metadata": {},
   "source": [
    "아래의 과정을 daylist의 인덱스 수만큼 반복함\n",
    "1. daylist의 인덱스의 0~2번째까지 문자만 선택하고 대문자로 바꿈\n",
    "2. 문자열 |와 1번의 문자열을 합침"
   ]
  },
  {
   "cell_type": "code",
   "execution_count": null,
   "id": "54be0b07",
   "metadata": {},
   "outputs": [],
   "source": [
    "print(days)"
   ]
  },
  {
   "cell_type": "markdown",
   "id": "d0f0eaa5",
   "metadata": {},
   "source": [
    "결과값을 출력함"
   ]
  }
 ],
 "metadata": {
  "kernelspec": {
   "display_name": "Python 3 (ipykernel)",
   "language": "python",
   "name": "python3"
  },
  "language_info": {
   "codemirror_mode": {
    "name": "ipython",
    "version": 3
   },
   "file_extension": ".py",
   "mimetype": "text/x-python",
   "name": "python",
   "nbconvert_exporter": "python",
   "pygments_lexer": "ipython3",
   "version": "3.11.7"
  }
 },
 "nbformat": 4,
 "nbformat_minor": 5
}
