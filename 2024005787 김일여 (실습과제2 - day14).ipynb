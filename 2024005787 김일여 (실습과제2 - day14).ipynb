{
 "cells": [
  {
   "cell_type": "code",
   "execution_count": null,
   "id": "e5174845",
   "metadata": {},
   "outputs": [],
   "source": [
    "n = int(input(\"자연수를 입력하시오.\"))"
   ]
  },
  {
   "cell_type": "markdown",
   "id": "57062cdf",
   "metadata": {},
   "source": [
    "자연수를 입력받아 n의 값으로 설정함"
   ]
  },
  {
   "cell_type": "code",
   "execution_count": null,
   "id": "424abb80",
   "metadata": {},
   "outputs": [],
   "source": [
    "for i in range(1, n+1):"
   ]
  },
  {
   "cell_type": "markdown",
   "id": "1ace8575",
   "metadata": {},
   "source": [
    "n이하의 모든 완전수를 출력해야 함 : 1부터 n까지 반복"
   ]
  },
  {
   "cell_type": "code",
   "execution_count": null,
   "id": "718ab443",
   "metadata": {},
   "outputs": [],
   "source": [
    "    list_ = []\n",
    "    for j in range(1, i):\n",
    "        if i % j == 0:\n",
    "            list_.append(j)\n",
    "    total = 0"
   ]
  },
  {
   "cell_type": "markdown",
   "id": "a3c1a6e0",
   "metadata": {},
   "source": [
    "- 각 숫자의 약수를 저장할 리스트 생성\n",
    "- 약수를 구하기 위해 : 1부터 자기자신까지의 숫자로 나눠야 함 (반복)\n",
    "- 나눠서 나머지가 0이면 그 수의 약수이므로 list_에 추가함\n",
    "- 약수의 총합을 구하기 위해 변수 total을 0으로 설정함"
   ]
  },
  {
   "cell_type": "code",
   "execution_count": null,
   "id": "b7b5a472",
   "metadata": {},
   "outputs": [],
   "source": [
    "    for k in range(len(list_)):\n",
    "        total += int(list_[k])"
   ]
  },
  {
   "cell_type": "markdown",
   "id": "936b00f7",
   "metadata": {},
   "source": [
    "리스트에 저장된 인덱스들의 합을 구함\n",
    "- 0번째 인덱스부터 마지막번째 인덱스까지 반복적으로 total에 더하여 합을 구함"
   ]
  },
  {
   "cell_type": "code",
   "execution_count": null,
   "id": "57a1e01e",
   "metadata": {},
   "outputs": [],
   "source": [
    "    if i == total:\n",
    "        print(i)"
   ]
  },
  {
   "cell_type": "markdown",
   "id": "9e5148be",
   "metadata": {},
   "source": [
    "total(약수들의 합)과 i(원래 자연수)의 값이 같다면 완전수이므로 출력함"
   ]
  }
 ],
 "metadata": {
  "kernelspec": {
   "display_name": "Python 3 (ipykernel)",
   "language": "python",
   "name": "python3"
  },
  "language_info": {
   "codemirror_mode": {
    "name": "ipython",
    "version": 3
   },
   "file_extension": ".py",
   "mimetype": "text/x-python",
   "name": "python",
   "nbconvert_exporter": "python",
   "pygments_lexer": "ipython3",
   "version": "3.11.7"
  }
 },
 "nbformat": 4,
 "nbformat_minor": 5
}
