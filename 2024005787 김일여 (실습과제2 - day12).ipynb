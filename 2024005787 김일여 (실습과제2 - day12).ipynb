{
 "cells": [
  {
   "cell_type": "code",
   "execution_count": null,
   "id": "f5c3186e",
   "metadata": {},
   "outputs": [],
   "source": [
    "list_ = [8, 3, 7, 2, 9, 1, 4, 5, 6]\n",
    "minimum = list_[0]\n",
    "maximum = list_[0]"
   ]
  },
  {
   "cell_type": "markdown",
   "id": "df67096e",
   "metadata": {},
   "source": [
    "list_내의 수들을 비교하기 위해 먼저 minimum과 maximum에 리스트의 0번째 인덱스를 할당함"
   ]
  },
  {
   "cell_type": "code",
   "execution_count": null,
   "id": "3b53768f",
   "metadata": {},
   "outputs": [],
   "source": [
    "for i in range(1, len(list_)):"
   ]
  },
  {
   "cell_type": "markdown",
   "id": "e050d946",
   "metadata": {},
   "source": [
    "0번째 인덱스와 1번째 인덱스를 시작으로 마지막 차례의 인덱스까지 순차적으로 비교함 ( 1부터 리스트의 길이만큼 반복 )"
   ]
  },
  {
   "cell_type": "code",
   "execution_count": null,
   "id": "50f97b43",
   "metadata": {},
   "outputs": [],
   "source": [
    " if minimum > list_[i]:\n",
    "        minimum = list_[i]"
   ]
  },
  {
   "cell_type": "markdown",
   "id": "f08e86a7",
   "metadata": {},
   "source": [
    "만약 앞 전의 인덱스보다 후의 인덱스가 더 작다면 minimum을 후의 인덱스의 값으로 변경해야 함"
   ]
  },
  {
   "cell_type": "code",
   "execution_count": null,
   "id": "38efc848",
   "metadata": {},
   "outputs": [],
   "source": [
    " if maximum < list_[i]:\n",
    "        maximum = list_[i]"
   ]
  },
  {
   "cell_type": "markdown",
   "id": "79d9aec2",
   "metadata": {},
   "source": [
    "만약 앞 전의 인덱스보다 후의 인덱스가 더 크다면 maximum을 후의 인덱스의 값으로 변경해야 함"
   ]
  },
  {
   "cell_type": "code",
   "execution_count": null,
   "id": "3e6ef06b",
   "metadata": {},
   "outputs": [],
   "source": [
    "print(\"가장 작은 수:\", minimum)\n",
    "print(\"가장 큰 수:\", maximum)"
   ]
  },
  {
   "cell_type": "markdown",
   "id": "85fc264c",
   "metadata": {},
   "source": [
    "반복이 끝난 후 결과값 출력"
   ]
  }
 ],
 "metadata": {
  "kernelspec": {
   "display_name": "Python 3 (ipykernel)",
   "language": "python",
   "name": "python3"
  },
  "language_info": {
   "codemirror_mode": {
    "name": "ipython",
    "version": 3
   },
   "file_extension": ".py",
   "mimetype": "text/x-python",
   "name": "python",
   "nbconvert_exporter": "python",
   "pygments_lexer": "ipython3",
   "version": "3.11.7"
  }
 },
 "nbformat": 4,
 "nbformat_minor": 5
}
